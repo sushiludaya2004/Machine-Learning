{
 "cells": [
  {
   "cell_type": "code",
   "execution_count": 2,
   "id": "eee7d3d2",
   "metadata": {},
   "outputs": [],
   "source": [
    "import pandas as pd"
   ]
  },
  {
   "cell_type": "code",
   "execution_count": 7,
   "id": "8d2306ac",
   "metadata": {},
   "outputs": [
    {
     "name": "stdout",
     "output_type": "stream",
     "text": [
      "A    1\n",
      "B    2\n",
      "C    3\n",
      "D    4\n",
      "E    5\n",
      "dtype: int64\n"
     ]
    }
   ],
   "source": [
    "#creating series\n",
    "data = [1,2,3,4,5]\n",
    "series = pd.Series(data, index = ['A','B','C','D','E'])\n",
    "print(series)"
   ]
  },
  {
   "cell_type": "code",
   "execution_count": 14,
   "id": "569f5111",
   "metadata": {},
   "outputs": [
    {
     "name": "stdout",
     "output_type": "stream",
     "text": [
      "       Name  Age College\n",
      "0    Sushil   20     REC\n",
      "1  Suprajaa   18     REC\n",
      "2   Kishore   21     REC\n",
      "3     Saran   21     REC\n"
     ]
    }
   ],
   "source": [
    "#creating dataframe\n",
    "data = {\n",
    "    'Name' : ['Sushil', 'Suprajaa', 'Kishore', 'Saran'],\n",
    "    'Age' : [20, 18, 21, 21],\n",
    "    'College' : ['REC', 'REC', 'REC', 'REC']\n",
    "}\n",
    "\n",
    "#converting it to dataframe\n",
    "df = pd.DataFrame(data)\n",
    "print(df)"
   ]
  },
  {
   "cell_type": "code",
   "execution_count": 17,
   "id": "e63d0d4e",
   "metadata": {},
   "outputs": [
    {
     "name": "stdout",
     "output_type": "stream",
     "text": [
      "College\n",
      "REC    20.0\n",
      "Name: Age, dtype: float64\n"
     ]
    }
   ],
   "source": [
    "#group-by\n",
    "grouping = df.groupby(['College'])\n",
    "print(grouping['Age'].mean())"
   ]
  },
  {
   "cell_type": "code",
   "execution_count": 19,
   "id": "f3f0875e",
   "metadata": {},
   "outputs": [
    {
     "name": "stdout",
     "output_type": "stream",
     "text": [
      "       Name  Age College\n",
      "0    Sushil   20     REC\n",
      "1  Suprajaa   18     REC\n",
      "2   Kishore   21     REC\n",
      "3     Saran   21     REC\n"
     ]
    }
   ],
   "source": [
    "#merging and joining\n",
    "data1 = {\n",
    "    'Name' : ['Sushil', 'Suprajaa', 'Kishore', 'Saran'],\n",
    "    'Age' : [20, 18, 21, 21]\n",
    "}\n",
    "data2 = {\n",
    "    'Name' : ['Sushil', 'Suprajaa', 'Kishore', 'Saran'],\n",
    "    'College' : ['REC', 'REC', 'REC', 'REC']\n",
    "}\n",
    "\n",
    "#converting to df\n",
    "df1 = pd.DataFrame(data1)\n",
    "df2 = pd.DataFrame(data2)\n",
    "\n",
    "#merging\n",
    "mergingdata = pd.merge(df1,df2, on = 'Name')\n",
    "print(mergingdata)"
   ]
  },
  {
   "cell_type": "code",
   "execution_count": 21,
   "id": "05486cce",
   "metadata": {},
   "outputs": [
    {
     "name": "stdout",
     "output_type": "stream",
     "text": [
      "       Name   Age College\n",
      "0    Sushil  20.0     NaN\n",
      "1  Suprajaa  18.0     NaN\n",
      "0   Kishore   NaN     REC\n",
      "1     Saran   NaN     REC\n"
     ]
    }
   ],
   "source": [
    "#concatenation\n",
    "data1 = {\n",
    "    'Name' : ['Sushil', 'Suprajaa'],\n",
    "    'Age' : [20, 18,]\n",
    "}\n",
    "data2 = {\n",
    "    'Name' : ['Kishore', 'Saran'],\n",
    "    'College' : ['REC', 'REC']\n",
    "}\n",
    "\n",
    "df1 = pd.DataFrame(data1)\n",
    "df2 = pd.DataFrame(data2)\n",
    "\n",
    "#concatenating\n",
    "concatedata = pd.concat([df1,df2], axis = 0)\n",
    "print(concatedata)"
   ]
  },
  {
   "cell_type": "code",
   "execution_count": 23,
   "id": "09fdf2f7",
   "metadata": {},
   "outputs": [
    {
     "name": "stdout",
     "output_type": "stream",
     "text": [
      "       Name  Age College\n",
      "0    Sushil   20     REC\n",
      "1  Suprajaa   18     REC\n",
      "2   Kishore   21     REC\n",
      "3     Saran   21     REC\n"
     ]
    }
   ],
   "source": [
    "#indexing\n",
    "data = {\n",
    "    'Name' : ['Sushil', 'Suprajaa', 'Kishore', 'Saran'],\n",
    "    'Age' : [20, 18, 21, 21],\n",
    "    'College' : ['REC', 'REC', 'REC', 'REC']\n",
    "}\n",
    "\n",
    "df = pd.DataFrame(data)\n",
    "print(df)"
   ]
  },
  {
   "cell_type": "code",
   "execution_count": 32,
   "id": "978b6245",
   "metadata": {},
   "outputs": [
    {
     "name": "stdout",
     "output_type": "stream",
     "text": [
      "0    20\n",
      "1    18\n",
      "2    21\n",
      "3    21\n",
      "Name: Age, dtype: int64\n"
     ]
    }
   ],
   "source": [
    "print(df[\"Age\"])"
   ]
  },
  {
   "cell_type": "code",
   "execution_count": 37,
   "id": "4be32115",
   "metadata": {},
   "outputs": [
    {
     "name": "stdout",
     "output_type": "stream",
     "text": [
      "Sushil\n"
     ]
    }
   ],
   "source": [
    "#df.loc - row_number and column name\n",
    "\n",
    "print(df.loc[0,'Name'])"
   ]
  },
  {
   "cell_type": "code",
   "execution_count": 42,
   "id": "033965f9",
   "metadata": {},
   "outputs": [
    {
     "name": "stdout",
     "output_type": "stream",
     "text": [
      "REC\n",
      "REC\n",
      "21\n",
      "20\n",
      "Sushil\n"
     ]
    }
   ],
   "source": [
    "#df.iloc - row_number and column_number\n",
    "\n",
    "print(df.iloc[0,2])\n",
    "print(df.iloc[3,2])\n",
    "print(df.iloc[2,1])\n",
    "print(df.iloc[0,1])\n",
    "print(df.iloc[0,0])"
   ]
  },
  {
   "cell_type": "code",
   "execution_count": 43,
   "id": "8233c304",
   "metadata": {},
   "outputs": [
    {
     "name": "stdout",
     "output_type": "stream",
     "text": [
      "       Name  Age College\n",
      "0    Sushil   20     REC\n",
      "1  Suprajaa   18     REC\n",
      "2   Kishore   21     REC\n"
     ]
    }
   ],
   "source": [
    "#slicing\n",
    "print(df[0:3])"
   ]
  },
  {
   "cell_type": "code",
   "execution_count": 45,
   "id": "f76e7882",
   "metadata": {},
   "outputs": [
    {
     "name": "stdout",
     "output_type": "stream",
     "text": [
      "       Name  Age\n",
      "0    Sushil   20\n",
      "1  Suprajaa   18\n",
      "2   Kishore   21\n",
      "3     Saran   21\n"
     ]
    }
   ],
   "source": [
    "print(df.loc[0:3,['Name','Age']])"
   ]
  },
  {
   "cell_type": "code",
   "execution_count": 3,
   "id": "f1990717",
   "metadata": {},
   "outputs": [
    {
     "name": "stdout",
     "output_type": "stream",
     "text": [
      "       Name  DS  ML  AI\n",
      "1    Sushil  45  34  21\n",
      "2  Suprajaa  48  41  25\n",
      "3   Kishore  44  34  23\n",
      "4     Saran  49  21  21\n"
     ]
    }
   ],
   "source": [
    "\n",
    "data = {\n",
    "    'Name' : ['Sushil', 'Suprajaa', 'Kishore', 'Saran'],\n",
    "    'DS' : [45, 48, 44, 49],\n",
    "    'ML' : [34, 41, 34, 21],\n",
    "    'AI' : [21, 25, 23, 21],\n",
    "    \n",
    "}\n",
    "\n",
    "df = pd.DataFrame(data, index = [1,2,3,4])\n",
    "print(df)"
   ]
  },
  {
   "cell_type": "code",
   "execution_count": 4,
   "id": "48953da9",
   "metadata": {},
   "outputs": [
    {
     "name": "stdout",
     "output_type": "stream",
     "text": [
      "       Name  DS  ML  AI\n",
      "4     Saran  49  21  21\n",
      "2  Suprajaa  48  41  25\n",
      "1    Sushil  45  34  21\n",
      "3   Kishore  44  34  23\n"
     ]
    }
   ],
   "source": [
    "#sorting in descending order\n",
    "dssort = df.sort_values(by = ['DS'], ascending = False)\n",
    "print(dssort)"
   ]
  },
  {
   "cell_type": "code",
   "execution_count": 5,
   "id": "ff1cbac0",
   "metadata": {},
   "outputs": [
    {
     "name": "stdout",
     "output_type": "stream",
     "text": [
      "       Name  DS  ML  AI\n",
      "4     Saran  49  21  21\n",
      "2  Suprajaa  48  41  25\n",
      "1    Sushil  45  34  21\n",
      "3   Kishore  44  34  23\n"
     ]
    }
   ],
   "source": [
    "#multiple column sort\n",
    "multiple_sort = df.sort_values(by = ['DS','AI'], ascending = [False, True])\n",
    "print(multiple_sort)\n"
   ]
  },
  {
   "cell_type": "code",
   "execution_count": 6,
   "id": "3eaa0010",
   "metadata": {},
   "outputs": [
    {
     "name": "stdout",
     "output_type": "stream",
     "text": [
      "       Name  DS  ML  AI\n",
      "1    Sushil  45  34  21\n",
      "2  Suprajaa  48  41  25\n",
      "3   Kishore  44  34  23\n"
     ]
    }
   ],
   "source": [
    "#filtering of data\n",
    "filtering = df[df['ML'] > 33]\n",
    "print(filtering)"
   ]
  },
  {
   "cell_type": "code",
   "execution_count": 10,
   "id": "40b70ca4",
   "metadata": {},
   "outputs": [
    {
     "name": "stdout",
     "output_type": "stream",
     "text": [
      "       Name  DS  ML  AI\n",
      "2  Suprajaa  48  41  25\n"
     ]
    }
   ],
   "source": [
    "#multiple condition\n",
    "\n",
    "filterdata = df[(df['ML'] > 33)&(df['DS']>45)]\n",
    "print(filterdata)\n"
   ]
  },
  {
   "cell_type": "code",
   "execution_count": 16,
   "id": "2208dcf1",
   "metadata": {},
   "outputs": [
    {
     "name": "stdout",
     "output_type": "stream",
     "text": [
      "       Name  DS  ML  AI  Proficiency\n",
      "1    Sushil  45  34  21            3\n",
      "2  Suprajaa  48  41  25            2\n",
      "3   Kishore  44  34  23            3\n",
      "4     Saran  49  21  21            2\n"
     ]
    }
   ],
   "source": [
    "#mapping data\n",
    "\n",
    "mapping = {'Sushil':3, 'Suprajaa':2, 'Saran':2, 'Kishore':3}\n",
    "df['Proficiency'] = df['Name'].map(mapping)\n",
    "print(df)"
   ]
  },
  {
   "cell_type": "markdown",
   "id": "e9c6b858",
   "metadata": {},
   "source": [
    "DATA CLEANING"
   ]
  },
  {
   "cell_type": "code",
   "execution_count": 30,
   "id": "215effda",
   "metadata": {},
   "outputs": [
    {
     "name": "stdout",
     "output_type": "stream",
     "text": [
      "    A  B\n",
      "0   1  4\n",
      "1   2  5\n",
      "2   3  6\n",
      "3   4  7\n",
      "4  90  7\n",
      "5   5  8\n",
      "6   6  9\n",
      "7   7  2\n",
      "8  67  2\n"
     ]
    }
   ],
   "source": [
    "data = {\n",
    "    'A' : [1,2,3,4,90,5,6,7,67],\n",
    "    'B' : [4,5,6,7,7,8,9,2,2]    \n",
    "}\n",
    "\n",
    "df = pd.DataFrame(data)\n",
    "print(df)\n"
   ]
  },
  {
   "cell_type": "code",
   "execution_count": 24,
   "id": "4aef3aed",
   "metadata": {},
   "outputs": [
    {
     "name": "stdout",
     "output_type": "stream",
     "text": [
      "0    False\n",
      "1    False\n",
      "2    False\n",
      "3    False\n",
      "4    False\n",
      "5    False\n",
      "6    False\n",
      "7    False\n",
      "8     True\n",
      "dtype: bool\n"
     ]
    }
   ],
   "source": [
    "# checking duplicate\n",
    "\n",
    "print(df.duplicated())"
   ]
  },
  {
   "cell_type": "code",
   "execution_count": 25,
   "id": "a5e123e2",
   "metadata": {},
   "outputs": [
    {
     "name": "stdout",
     "output_type": "stream",
     "text": [
      "   A  B\n",
      "0  1  4\n",
      "1  2  5\n",
      "2  3  6\n",
      "3  4  7\n",
      "4  5  7\n",
      "5  5  8\n",
      "6  7  9\n",
      "7  7  2\n"
     ]
    }
   ],
   "source": [
    "#removing duplicate\n",
    "print(df.drop_duplicates())"
   ]
  },
  {
   "cell_type": "code",
   "execution_count": 33,
   "id": "17ad41f3",
   "metadata": {},
   "outputs": [
    {
     "name": "stdout",
     "output_type": "stream",
     "text": [
      "7.0\n"
     ]
    }
   ],
   "source": [
    "#outliers\n",
    "x = df['A'].quantile(0.99)\n",
    "print(x)"
   ]
  },
  {
   "cell_type": "code",
   "execution_count": 34,
   "id": "bea85969",
   "metadata": {},
   "outputs": [],
   "source": [
    "df['A'] = df['A'].clip(lower = None, upper = x)"
   ]
  },
  {
   "cell_type": "code",
   "execution_count": 35,
   "id": "114096cf",
   "metadata": {},
   "outputs": [
    {
     "name": "stdout",
     "output_type": "stream",
     "text": [
      "   A  B\n",
      "0  1  4\n",
      "1  2  5\n",
      "2  3  6\n",
      "3  4  7\n",
      "4  7  7\n",
      "5  5  8\n",
      "6  6  9\n",
      "7  7  2\n",
      "8  7  2\n"
     ]
    }
   ],
   "source": [
    "print(df)"
   ]
  },
  {
   "cell_type": "code",
   "execution_count": 38,
   "id": "fb4e5a96",
   "metadata": {},
   "outputs": [
    {
     "name": "stdout",
     "output_type": "stream",
     "text": [
      "     A     B\n",
      "0  1.0   NaN\n",
      "1  2.0   NaN\n",
      "2  NaN   8.0\n",
      "3  NaN   9.0\n",
      "4  5.0  10.0\n"
     ]
    }
   ],
   "source": [
    "#Handling missing values\n",
    "\n",
    "import numpy as np\n",
    "\n",
    "\n",
    "data = { \n",
    "    'A': [1, 2, np.nan, np.nan, 5],\n",
    "    'B': [np.nan, np.nan, 8, 9, 10]\n",
    "}\n",
    "\n",
    "df = pd.DataFrame(data)\n",
    "print(df)\n"
   ]
  },
  {
   "cell_type": "code",
   "execution_count": 39,
   "id": "a4b7b09e",
   "metadata": {},
   "outputs": [
    {
     "name": "stdout",
     "output_type": "stream",
     "text": [
      "       A      B\n",
      "0  False   True\n",
      "1  False   True\n",
      "2   True  False\n",
      "3   True  False\n",
      "4  False  False\n"
     ]
    }
   ],
   "source": [
    "#to check whether the data contains missing value --> isna()\n",
    "\n",
    "print(df.isna())"
   ]
  },
  {
   "cell_type": "code",
   "execution_count": 40,
   "id": "58106d21",
   "metadata": {},
   "outputs": [
    {
     "name": "stdout",
     "output_type": "stream",
     "text": [
      "     A     B\n",
      "0  1.0   0.0\n",
      "1  2.0   0.0\n",
      "2  0.0   8.0\n",
      "3  0.0   9.0\n",
      "4  5.0  10.0\n"
     ]
    }
   ],
   "source": [
    "#to fill the missing --> fillna()\n",
    "\n",
    "print(df.fillna(value = 0))"
   ]
  },
  {
   "cell_type": "code",
   "execution_count": 41,
   "id": "df326b46",
   "metadata": {},
   "outputs": [
    {
     "name": "stdout",
     "output_type": "stream",
     "text": [
      "          A     B\n",
      "0  1.000000   9.0\n",
      "1  2.000000   9.0\n",
      "2  2.666667   8.0\n",
      "3  2.666667   9.0\n",
      "4  5.000000  10.0\n"
     ]
    }
   ],
   "source": [
    "#to fill the missing values with the mean of their column\n",
    "\n",
    "df['A'] = df['A'].fillna(df['A'].mean())\n",
    "df['B'] = df['B'].fillna(df['B'].mean())\n",
    "print(df)\n"
   ]
  },
  {
   "cell_type": "code",
   "execution_count": null,
   "id": "59a81568",
   "metadata": {},
   "outputs": [],
   "source": []
  }
 ],
 "metadata": {
  "kernelspec": {
   "display_name": "Python 3 (ipykernel)",
   "language": "python",
   "name": "python3"
  },
  "language_info": {
   "codemirror_mode": {
    "name": "ipython",
    "version": 3
   },
   "file_extension": ".py",
   "mimetype": "text/x-python",
   "name": "python",
   "nbconvert_exporter": "python",
   "pygments_lexer": "ipython3",
   "version": "3.10.9"
  }
 },
 "nbformat": 4,
 "nbformat_minor": 5
}
