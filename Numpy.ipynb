{
 "cells": [
  {
   "cell_type": "code",
   "execution_count": 1,
   "id": "8484cb3f",
   "metadata": {},
   "outputs": [],
   "source": [
    "import numpy as np\n"
   ]
  },
  {
   "cell_type": "code",
   "execution_count": null,
   "id": "90cfc415",
   "metadata": {},
   "outputs": [],
   "source": [
    "#savetxt saves the numpy array as txt or csv file.\n",
    "#first the name of the file, the value to be stored, delimiter means how the value is separated."
   ]
  },
  {
   "cell_type": "code",
   "execution_count": 7,
   "id": "b7b6a56b",
   "metadata": {},
   "outputs": [],
   "source": [
    "data = np.array([[1,2,3],[4,5,6]])\n",
    "dd = np.array([1,2,3])\n",
    "np.savetxt(\"datadoc.txt\", data, delimiter=\",\")"
   ]
  },
  {
   "cell_type": "code",
   "execution_count": null,
   "id": "3b66777e",
   "metadata": {},
   "outputs": [
    {
     "ename": "",
     "evalue": "",
     "output_type": "error",
     "traceback": [
      "\u001b[1;31mRunning cells with '/usr/local/bin/python3' requires the ipykernel package.\n",
      "\u001b[1;31mRun the following command to install 'ipykernel' into the Python environment. \n",
      "\u001b[1;31mCommand: '/usr/local/bin/python3 -m pip install ipykernel -U --user --force-reinstall'"
     ]
    }
   ],
   "source": [
    "#loading the data\n",
    "load_data = np.loadtxt(\"datadoc.txt\", delimiter=\",\")\n",
    "#saving the data to a binary file\n",
    "np.save(\"datadoc.npy\",dd)\n",
    "#loading the saved data from the binary file.\n",
    "np.load(\"datadoc.npy\")"
   ]
  },
  {
   "cell_type": "code",
   "execution_count": 15,
   "id": "1237fa40",
   "metadata": {},
   "outputs": [
    {
     "data": {
      "text/plain": [
       "array([[1., 2., 3.],\n",
       "       [4., 5., 6.]])"
      ]
     },
     "execution_count": 15,
     "metadata": {},
     "output_type": "execute_result"
    }
   ],
   "source": [
    "arr = np.array([[1,4,3],[6,7,8]])\n",
    "np.genfromtxt(\"datadoc.txt\", delimiter=\",\", missing_values = \"\", filling_values = \"0\")"
   ]
  },
  {
   "cell_type": "code",
   "execution_count": null,
   "id": "bc12d1c5",
   "metadata": {},
   "outputs": [],
   "source": [
    "#Structured array"
   ]
  },
  {
   "cell_type": "code",
   "execution_count": null,
   "id": "441808b3",
   "metadata": {},
   "outputs": [
    {
     "data": {
      "text/plain": [
       "array([(b'sushiluday', 20, 6.1), (b'suprajaa', 21, 5.3)],\n",
       "      dtype=[('Name', 'S10'), ('Age', '<i4'), ('Height', '<f8')])"
      ]
     },
     "execution_count": 29,
     "metadata": {},
     "output_type": "execute_result"
    }
   ],
   "source": [
    "dt = np.dtype([('Name', 'S10'),(\"Age\", 'i4'),(\"Height\", 'f8')])\n",
    "\n",
    "da = np.array([(\"sushiludayakumar\", 20, 6.1), (\"suprajaa\", 21, 5.3)], dtype = dt)\n",
    "da\n"
   ]
  },
  {
   "cell_type": "code",
   "execution_count": null,
   "id": "1c4636b6",
   "metadata": {},
   "outputs": [],
   "source": []
  }
 ],
 "metadata": {
  "kernelspec": {
   "display_name": "Python 3 (ipykernel)",
   "language": "python",
   "name": "python3"
  },
  "language_info": {
   "codemirror_mode": {
    "name": "ipython",
    "version": 3
   },
   "file_extension": ".py",
   "mimetype": "text/x-python",
   "name": "python",
   "nbconvert_exporter": "python",
   "pygments_lexer": "ipython3",
   "version": "3.10.5"
  }
 },
 "nbformat": 4,
 "nbformat_minor": 5
}
